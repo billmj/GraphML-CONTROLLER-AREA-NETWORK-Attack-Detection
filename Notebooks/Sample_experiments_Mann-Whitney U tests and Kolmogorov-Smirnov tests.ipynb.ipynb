{
 "cells": [
  {
   "cell_type": "code",
   "execution_count": 14,
   "id": "c256c5f5-a7bb-4581-9c5c-43a792667e95",
   "metadata": {},
   "outputs": [
    {
     "name": "stdout",
     "output_type": "stream",
     "text": [
      "\n",
      "Results for 'correlated_signal_attack' attack type:\n",
      "Mann-Whitney U Test - U Statistic: 1069.5, P Value: 9.838866122260563e-07\n",
      "One-sided Kolmogorov-Smirnov Test - KS Statistic: 0.5833333333333334, P Value: 2.6111215754171615e-06\n",
      "\n",
      "Results for 'max_engine_coolant' attack type:\n",
      "Mann-Whitney U Test - U Statistic: 811.5, P Value: 0.033126121206945455\n",
      "One-sided Kolmogorov-Smirnov Test - KS Statistic: 0.3333333333333333, P Value: 0.01796614914874737\n",
      "\n",
      "Results for 'max_speedometer_attack' attack type:\n",
      "Mann-Whitney U Test - U Statistic: 1085.0, P Value: 4.197807086982331e-07\n",
      "One-sided Kolmogorov-Smirnov Test - KS Statistic: 0.5555555555555556, P Value: 9.302120612423639e-06\n",
      "\n",
      "Results for 'reverse_light_off_attack' attack type:\n",
      "Mann-Whitney U Test - U Statistic: 1040.5, P Value: 4.837230070325178e-06\n",
      "One-sided Kolmogorov-Smirnov Test - KS Statistic: 0.5, P Value: 9.362918786361047e-05\n",
      "\n",
      "Results for 'reverse_light_on_attack' attack type:\n",
      "Mann-Whitney U Test - U Statistic: 1112.0, P Value: 8.350388349874678e-08\n",
      "One-sided Kolmogorov-Smirnov Test - KS Statistic: 0.6111111111111112, P Value: 6.752900626078866e-07\n"
     ]
    }
   ],
   "source": [
    "import pandas as pd\n",
    "from scipy.stats import mannwhitneyu, ks_2samp\n",
    "\n",
    "# Load the performance metrics CSV file\n",
    "input_csv_path = r\"C:\\Users\\willi\\CAN_experiments\\New_Experiments\\attack\\final_consolidated_performance_metrics.csv\"\n",
    "performance_df = pd.read_csv(input_csv_path)\n",
    "\n",
    "# Get unique attack types\n",
    "attack_types = performance_df['attack_type'].unique()\n",
    "\n",
    "# Initialize dictionaries to store the test results\n",
    "mannwhitneyu_results = {}\n",
    "ks_results = {}\n",
    "\n",
    "# Perform the tests for each attack type\n",
    "for attack_type in attack_types:\n",
    "    # Filter the data for the current attack type\n",
    "    attack_data = performance_df[performance_df['attack_type'] == attack_type]\n",
    "    \n",
    "    # Separate the data into the two versions\n",
    "    embeddings_only = attack_data[attack_data['version'] == 'embeddings_only_normalized']['roc_auc']\n",
    "    all_normalized = attack_data[attack_data['version'] == 'all_normalized']['roc_auc']\n",
    "    \n",
    "    # Mann-Whitney U test with alternative='greater'\n",
    "    u_statistic, p_value_u = mannwhitneyu(all_normalized, embeddings_only, alternative='greater')\n",
    "    mannwhitneyu_results[attack_type] = {'U Statistic': u_statistic, 'P Value': p_value_u}\n",
    "    \n",
    "    # Two-sided Kolmogorov-Smirnov test\n",
    "    ks_statistic, p_value_ks_two_sided = ks_2samp(all_normalized, embeddings_only)\n",
    "    \n",
    "    # Convert to one-sided p-value\n",
    "    p_value_ks_one_sided = p_value_ks_two_sided / 2 if all_normalized.mean() > embeddings_only.mean() else 1 - p_value_ks_two_sided / 2\n",
    "    ks_results[attack_type] = {'KS Statistic': ks_statistic, 'P Value': p_value_ks_one_sided}\n",
    "\n",
    "# Print the results\n",
    "for attack_type in mannwhitneyu_results:\n",
    "    print(f\"\\nResults for '{attack_type}' attack type:\")\n",
    "    print(f\"Mann-Whitney U Test - U Statistic: {mannwhitneyu_results[attack_type]['U Statistic']}, P Value: {mannwhitneyu_results[attack_type]['P Value']}\")\n",
    "    print(f\"One-sided Kolmogorov-Smirnov Test - KS Statistic: {ks_results[attack_type]['KS Statistic']}, P Value: {ks_results[attack_type]['P Value']}\")\n",
    "\n"
   ]
  },
  {
   "cell_type": "code",
   "execution_count": 15,
   "id": "342eea3a-e7a4-4f76-b038-67bed1e95c2d",
   "metadata": {},
   "outputs": [
    {
     "name": "stdout",
     "output_type": "stream",
     "text": [
      "Sample sizes for 'correlated_signal_attack' attack type:\n",
      "  Embeddings Only: 36\n",
      "  Normalized: 36\n",
      "Sample sizes for 'max_engine_coolant' attack type:\n",
      "  Embeddings Only: 36\n",
      "  Normalized: 36\n",
      "Sample sizes for 'max_speedometer_attack' attack type:\n",
      "  Embeddings Only: 36\n",
      "  Normalized: 36\n",
      "Sample sizes for 'reverse_light_off_attack' attack type:\n",
      "  Embeddings Only: 36\n",
      "  Normalized: 36\n",
      "Sample sizes for 'reverse_light_on_attack' attack type:\n",
      "  Embeddings Only: 36\n",
      "  Normalized: 36\n"
     ]
    }
   ],
   "source": [
    "import pandas as pd\n",
    "\n",
    "# Load the provided CSV file\n",
    "input_csv_path = r\"C:\\Users\\willi\\CAN_experiments\\New_Experiments\\attack\\final_consolidated_performance_metrics.csv\"\n",
    "performance_df = pd.read_csv(input_csv_path)\n",
    "\n",
    "# Get unique attack types\n",
    "attack_types = performance_df['attack_type'].unique()\n",
    "\n",
    "# Initialize a dictionary to store sample sizes\n",
    "sample_sizes = {}\n",
    "\n",
    "# Iterate over each attack type\n",
    "for attack_type in attack_types:\n",
    "    # Filter the data for the current attack type\n",
    "    attack_data = performance_df[performance_df['attack_type'] == attack_type]\n",
    "    \n",
    "    # Calculate sample sizes for each version\n",
    "    embeddings_only_size = attack_data[attack_data['version'] == 'embeddings_only_normalized'].shape[0]\n",
    "    all_normalized_size = attack_data[attack_data['version'] == 'all_normalized'].shape[0]\n",
    "    \n",
    "    # Store the sample sizes in the dictionary\n",
    "    sample_sizes[attack_type] = {\n",
    "        'embeddings_only_normalized': embeddings_only_size,\n",
    "        'all_normalized': all_normalized_size\n",
    "    }\n",
    "\n",
    "# Print the sample sizes\n",
    "for attack_type, sizes in sample_sizes.items():\n",
    "    print(f\"Sample sizes for '{attack_type}' attack type:\")\n",
    "    print(f\"  Embeddings Only: {sizes['embeddings_only_normalized']}\")\n",
    "    print(f\"  Normalized: {sizes['all_normalized']}\")\n"
   ]
  },
  {
   "cell_type": "code",
   "execution_count": null,
   "id": "b6b9bc56-bb8e-43fd-8537-f29be1faa3c3",
   "metadata": {},
   "outputs": [],
   "source": []
  }
 ],
 "metadata": {
  "kernelspec": {
   "display_name": "Python 3 (ipykernel)",
   "language": "python",
   "name": "python3"
  },
  "language_info": {
   "codemirror_mode": {
    "name": "ipython",
    "version": 3
   },
   "file_extension": ".py",
   "mimetype": "text/x-python",
   "name": "python",
   "nbconvert_exporter": "python",
   "pygments_lexer": "ipython3",
   "version": "3.8.18"
  }
 },
 "nbformat": 4,
 "nbformat_minor": 5
}
